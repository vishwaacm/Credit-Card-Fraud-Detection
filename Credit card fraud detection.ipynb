{
 "cells": [
  {
   "cell_type": "code",
   "execution_count": null,
   "metadata": {},
   "outputs": [],
   "source": [
    "# Credit card Frad dectection"
   ]
  },
  {
   "cell_type": "code",
   "execution_count": 2,
   "metadata": {},
   "outputs": [],
   "source": [
    "import numpy as np\n",
    "import pandas as pd\n",
    "import seaborn as sns\n",
    "import matplotlib.pyplot as plt"
   ]
  },
  {
   "cell_type": "markdown",
   "metadata": {},
   "source": [
    "#                               Read the data set"
   ]
  },
  {
   "cell_type": "code",
   "execution_count": 3,
   "metadata": {},
   "outputs": [],
   "source": [
    "creditcard_df = pd.read_csv('creditcard.csv')"
   ]
  },
  {
   "cell_type": "code",
   "execution_count": 4,
   "metadata": {},
   "outputs": [],
   "source": [
    "credit_card_df = creditcard_df.sample(n=50000, random_state=1)"
   ]
  },
  {
   "cell_type": "markdown",
   "metadata": {},
   "source": [
    "#  See the data content and head lines"
   ]
  },
  {
   "cell_type": "code",
   "execution_count": 5,
   "metadata": {},
   "outputs": [
    {
     "data": {
      "text/html": [
       "<div>\n",
       "<style scoped>\n",
       "    .dataframe tbody tr th:only-of-type {\n",
       "        vertical-align: middle;\n",
       "    }\n",
       "\n",
       "    .dataframe tbody tr th {\n",
       "        vertical-align: top;\n",
       "    }\n",
       "\n",
       "    .dataframe thead th {\n",
       "        text-align: right;\n",
       "    }\n",
       "</style>\n",
       "<table border=\"1\" class=\"dataframe\">\n",
       "  <thead>\n",
       "    <tr style=\"text-align: right;\">\n",
       "      <th></th>\n",
       "      <th>Time</th>\n",
       "      <th>V1</th>\n",
       "      <th>V2</th>\n",
       "      <th>V3</th>\n",
       "      <th>V4</th>\n",
       "      <th>V5</th>\n",
       "      <th>V6</th>\n",
       "      <th>V7</th>\n",
       "      <th>V8</th>\n",
       "      <th>V9</th>\n",
       "      <th>...</th>\n",
       "      <th>V21</th>\n",
       "      <th>V22</th>\n",
       "      <th>V23</th>\n",
       "      <th>V24</th>\n",
       "      <th>V25</th>\n",
       "      <th>V26</th>\n",
       "      <th>V27</th>\n",
       "      <th>V28</th>\n",
       "      <th>Amount</th>\n",
       "      <th>Class</th>\n",
       "    </tr>\n",
       "  </thead>\n",
       "  <tbody>\n",
       "    <tr>\n",
       "      <th>169876</th>\n",
       "      <td>119907.0</td>\n",
       "      <td>-0.611712</td>\n",
       "      <td>-0.769705</td>\n",
       "      <td>-0.149759</td>\n",
       "      <td>-0.224877</td>\n",
       "      <td>2.028577</td>\n",
       "      <td>-2.019887</td>\n",
       "      <td>0.292491</td>\n",
       "      <td>-0.523020</td>\n",
       "      <td>0.358468</td>\n",
       "      <td>...</td>\n",
       "      <td>-0.075208</td>\n",
       "      <td>0.045536</td>\n",
       "      <td>0.380739</td>\n",
       "      <td>0.023440</td>\n",
       "      <td>-2.220686</td>\n",
       "      <td>-0.201146</td>\n",
       "      <td>0.066501</td>\n",
       "      <td>0.221180</td>\n",
       "      <td>1.79</td>\n",
       "      <td>0</td>\n",
       "    </tr>\n",
       "    <tr>\n",
       "      <th>127467</th>\n",
       "      <td>78340.0</td>\n",
       "      <td>-0.814682</td>\n",
       "      <td>1.319219</td>\n",
       "      <td>1.329415</td>\n",
       "      <td>0.027273</td>\n",
       "      <td>-0.284871</td>\n",
       "      <td>-0.653985</td>\n",
       "      <td>0.321552</td>\n",
       "      <td>0.435975</td>\n",
       "      <td>-0.704298</td>\n",
       "      <td>...</td>\n",
       "      <td>-0.128619</td>\n",
       "      <td>-0.368565</td>\n",
       "      <td>0.090660</td>\n",
       "      <td>0.401147</td>\n",
       "      <td>-0.261034</td>\n",
       "      <td>0.080621</td>\n",
       "      <td>0.162427</td>\n",
       "      <td>0.059456</td>\n",
       "      <td>1.98</td>\n",
       "      <td>0</td>\n",
       "    </tr>\n",
       "    <tr>\n",
       "      <th>137900</th>\n",
       "      <td>82382.0</td>\n",
       "      <td>-0.318193</td>\n",
       "      <td>1.118618</td>\n",
       "      <td>0.969864</td>\n",
       "      <td>-0.127052</td>\n",
       "      <td>0.569563</td>\n",
       "      <td>-0.532484</td>\n",
       "      <td>0.706252</td>\n",
       "      <td>-0.064966</td>\n",
       "      <td>-0.463271</td>\n",
       "      <td>...</td>\n",
       "      <td>-0.305402</td>\n",
       "      <td>-0.774704</td>\n",
       "      <td>-0.123884</td>\n",
       "      <td>-0.495687</td>\n",
       "      <td>-0.018148</td>\n",
       "      <td>0.121679</td>\n",
       "      <td>0.249050</td>\n",
       "      <td>0.092516</td>\n",
       "      <td>0.89</td>\n",
       "      <td>0</td>\n",
       "    </tr>\n",
       "    <tr>\n",
       "      <th>21513</th>\n",
       "      <td>31717.0</td>\n",
       "      <td>-1.328271</td>\n",
       "      <td>1.018378</td>\n",
       "      <td>1.775426</td>\n",
       "      <td>-1.574193</td>\n",
       "      <td>-0.117696</td>\n",
       "      <td>-0.457733</td>\n",
       "      <td>0.681867</td>\n",
       "      <td>-0.031641</td>\n",
       "      <td>0.383872</td>\n",
       "      <td>...</td>\n",
       "      <td>-0.220815</td>\n",
       "      <td>-0.419013</td>\n",
       "      <td>-0.239197</td>\n",
       "      <td>0.009967</td>\n",
       "      <td>0.232829</td>\n",
       "      <td>0.814177</td>\n",
       "      <td>0.098797</td>\n",
       "      <td>-0.004273</td>\n",
       "      <td>15.98</td>\n",
       "      <td>0</td>\n",
       "    </tr>\n",
       "    <tr>\n",
       "      <th>134700</th>\n",
       "      <td>80923.0</td>\n",
       "      <td>1.276712</td>\n",
       "      <td>0.617120</td>\n",
       "      <td>-0.578014</td>\n",
       "      <td>0.879173</td>\n",
       "      <td>0.061706</td>\n",
       "      <td>-1.472002</td>\n",
       "      <td>0.373692</td>\n",
       "      <td>-0.287204</td>\n",
       "      <td>-0.084482</td>\n",
       "      <td>...</td>\n",
       "      <td>-0.160161</td>\n",
       "      <td>-0.430404</td>\n",
       "      <td>-0.076738</td>\n",
       "      <td>0.258708</td>\n",
       "      <td>0.552170</td>\n",
       "      <td>0.370701</td>\n",
       "      <td>-0.034255</td>\n",
       "      <td>0.041709</td>\n",
       "      <td>0.76</td>\n",
       "      <td>0</td>\n",
       "    </tr>\n",
       "  </tbody>\n",
       "</table>\n",
       "<p>5 rows × 31 columns</p>\n",
       "</div>"
      ],
      "text/plain": [
       "            Time        V1        V2        V3        V4        V5        V6  \\\n",
       "169876  119907.0 -0.611712 -0.769705 -0.149759 -0.224877  2.028577 -2.019887   \n",
       "127467   78340.0 -0.814682  1.319219  1.329415  0.027273 -0.284871 -0.653985   \n",
       "137900   82382.0 -0.318193  1.118618  0.969864 -0.127052  0.569563 -0.532484   \n",
       "21513    31717.0 -1.328271  1.018378  1.775426 -1.574193 -0.117696 -0.457733   \n",
       "134700   80923.0  1.276712  0.617120 -0.578014  0.879173  0.061706 -1.472002   \n",
       "\n",
       "              V7        V8        V9  ...       V21       V22       V23  \\\n",
       "169876  0.292491 -0.523020  0.358468  ... -0.075208  0.045536  0.380739   \n",
       "127467  0.321552  0.435975 -0.704298  ... -0.128619 -0.368565  0.090660   \n",
       "137900  0.706252 -0.064966 -0.463271  ... -0.305402 -0.774704 -0.123884   \n",
       "21513   0.681867 -0.031641  0.383872  ... -0.220815 -0.419013 -0.239197   \n",
       "134700  0.373692 -0.287204 -0.084482  ... -0.160161 -0.430404 -0.076738   \n",
       "\n",
       "             V24       V25       V26       V27       V28  Amount  Class  \n",
       "169876  0.023440 -2.220686 -0.201146  0.066501  0.221180    1.79      0  \n",
       "127467  0.401147 -0.261034  0.080621  0.162427  0.059456    1.98      0  \n",
       "137900 -0.495687 -0.018148  0.121679  0.249050  0.092516    0.89      0  \n",
       "21513   0.009967  0.232829  0.814177  0.098797 -0.004273   15.98      0  \n",
       "134700  0.258708  0.552170  0.370701 -0.034255  0.041709    0.76      0  \n",
       "\n",
       "[5 rows x 31 columns]"
      ]
     },
     "execution_count": 5,
     "metadata": {},
     "output_type": "execute_result"
    }
   ],
   "source": [
    "credit_card_df.head()"
   ]
  },
  {
   "cell_type": "markdown",
   "metadata": {},
   "source": [
    "#                         To see the shape of the data"
   ]
  },
  {
   "cell_type": "code",
   "execution_count": 6,
   "metadata": {},
   "outputs": [
    {
     "data": {
      "text/plain": [
       "(50000, 31)"
      ]
     },
     "execution_count": 6,
     "metadata": {},
     "output_type": "execute_result"
    }
   ],
   "source": [
    "credit_card_df.shape"
   ]
  },
  {
   "cell_type": "markdown",
   "metadata": {},
   "source": [
    "#                     Check if any missing data from the data set"
   ]
  },
  {
   "cell_type": "code",
   "execution_count": 7,
   "metadata": {},
   "outputs": [
    {
     "data": {
      "text/html": [
       "<div>\n",
       "<style scoped>\n",
       "    .dataframe tbody tr th:only-of-type {\n",
       "        vertical-align: middle;\n",
       "    }\n",
       "\n",
       "    .dataframe tbody tr th {\n",
       "        vertical-align: top;\n",
       "    }\n",
       "\n",
       "    .dataframe thead th {\n",
       "        text-align: right;\n",
       "    }\n",
       "</style>\n",
       "<table border=\"1\" class=\"dataframe\">\n",
       "  <thead>\n",
       "    <tr style=\"text-align: right;\">\n",
       "      <th></th>\n",
       "      <th>Time</th>\n",
       "      <th>V1</th>\n",
       "      <th>V2</th>\n",
       "      <th>V3</th>\n",
       "      <th>V4</th>\n",
       "      <th>V5</th>\n",
       "      <th>V6</th>\n",
       "      <th>V7</th>\n",
       "      <th>V8</th>\n",
       "      <th>V9</th>\n",
       "      <th>...</th>\n",
       "      <th>V21</th>\n",
       "      <th>V22</th>\n",
       "      <th>V23</th>\n",
       "      <th>V24</th>\n",
       "      <th>V25</th>\n",
       "      <th>V26</th>\n",
       "      <th>V27</th>\n",
       "      <th>V28</th>\n",
       "      <th>Amount</th>\n",
       "      <th>Class</th>\n",
       "    </tr>\n",
       "  </thead>\n",
       "  <tbody>\n",
       "    <tr>\n",
       "      <th>169876</th>\n",
       "      <td>False</td>\n",
       "      <td>False</td>\n",
       "      <td>False</td>\n",
       "      <td>False</td>\n",
       "      <td>False</td>\n",
       "      <td>False</td>\n",
       "      <td>False</td>\n",
       "      <td>False</td>\n",
       "      <td>False</td>\n",
       "      <td>False</td>\n",
       "      <td>...</td>\n",
       "      <td>False</td>\n",
       "      <td>False</td>\n",
       "      <td>False</td>\n",
       "      <td>False</td>\n",
       "      <td>False</td>\n",
       "      <td>False</td>\n",
       "      <td>False</td>\n",
       "      <td>False</td>\n",
       "      <td>False</td>\n",
       "      <td>False</td>\n",
       "    </tr>\n",
       "    <tr>\n",
       "      <th>127467</th>\n",
       "      <td>False</td>\n",
       "      <td>False</td>\n",
       "      <td>False</td>\n",
       "      <td>False</td>\n",
       "      <td>False</td>\n",
       "      <td>False</td>\n",
       "      <td>False</td>\n",
       "      <td>False</td>\n",
       "      <td>False</td>\n",
       "      <td>False</td>\n",
       "      <td>...</td>\n",
       "      <td>False</td>\n",
       "      <td>False</td>\n",
       "      <td>False</td>\n",
       "      <td>False</td>\n",
       "      <td>False</td>\n",
       "      <td>False</td>\n",
       "      <td>False</td>\n",
       "      <td>False</td>\n",
       "      <td>False</td>\n",
       "      <td>False</td>\n",
       "    </tr>\n",
       "    <tr>\n",
       "      <th>137900</th>\n",
       "      <td>False</td>\n",
       "      <td>False</td>\n",
       "      <td>False</td>\n",
       "      <td>False</td>\n",
       "      <td>False</td>\n",
       "      <td>False</td>\n",
       "      <td>False</td>\n",
       "      <td>False</td>\n",
       "      <td>False</td>\n",
       "      <td>False</td>\n",
       "      <td>...</td>\n",
       "      <td>False</td>\n",
       "      <td>False</td>\n",
       "      <td>False</td>\n",
       "      <td>False</td>\n",
       "      <td>False</td>\n",
       "      <td>False</td>\n",
       "      <td>False</td>\n",
       "      <td>False</td>\n",
       "      <td>False</td>\n",
       "      <td>False</td>\n",
       "    </tr>\n",
       "    <tr>\n",
       "      <th>21513</th>\n",
       "      <td>False</td>\n",
       "      <td>False</td>\n",
       "      <td>False</td>\n",
       "      <td>False</td>\n",
       "      <td>False</td>\n",
       "      <td>False</td>\n",
       "      <td>False</td>\n",
       "      <td>False</td>\n",
       "      <td>False</td>\n",
       "      <td>False</td>\n",
       "      <td>...</td>\n",
       "      <td>False</td>\n",
       "      <td>False</td>\n",
       "      <td>False</td>\n",
       "      <td>False</td>\n",
       "      <td>False</td>\n",
       "      <td>False</td>\n",
       "      <td>False</td>\n",
       "      <td>False</td>\n",
       "      <td>False</td>\n",
       "      <td>False</td>\n",
       "    </tr>\n",
       "    <tr>\n",
       "      <th>134700</th>\n",
       "      <td>False</td>\n",
       "      <td>False</td>\n",
       "      <td>False</td>\n",
       "      <td>False</td>\n",
       "      <td>False</td>\n",
       "      <td>False</td>\n",
       "      <td>False</td>\n",
       "      <td>False</td>\n",
       "      <td>False</td>\n",
       "      <td>False</td>\n",
       "      <td>...</td>\n",
       "      <td>False</td>\n",
       "      <td>False</td>\n",
       "      <td>False</td>\n",
       "      <td>False</td>\n",
       "      <td>False</td>\n",
       "      <td>False</td>\n",
       "      <td>False</td>\n",
       "      <td>False</td>\n",
       "      <td>False</td>\n",
       "      <td>False</td>\n",
       "    </tr>\n",
       "    <tr>\n",
       "      <th>...</th>\n",
       "      <td>...</td>\n",
       "      <td>...</td>\n",
       "      <td>...</td>\n",
       "      <td>...</td>\n",
       "      <td>...</td>\n",
       "      <td>...</td>\n",
       "      <td>...</td>\n",
       "      <td>...</td>\n",
       "      <td>...</td>\n",
       "      <td>...</td>\n",
       "      <td>...</td>\n",
       "      <td>...</td>\n",
       "      <td>...</td>\n",
       "      <td>...</td>\n",
       "      <td>...</td>\n",
       "      <td>...</td>\n",
       "      <td>...</td>\n",
       "      <td>...</td>\n",
       "      <td>...</td>\n",
       "      <td>...</td>\n",
       "      <td>...</td>\n",
       "    </tr>\n",
       "    <tr>\n",
       "      <th>73392</th>\n",
       "      <td>False</td>\n",
       "      <td>False</td>\n",
       "      <td>False</td>\n",
       "      <td>False</td>\n",
       "      <td>False</td>\n",
       "      <td>False</td>\n",
       "      <td>False</td>\n",
       "      <td>False</td>\n",
       "      <td>False</td>\n",
       "      <td>False</td>\n",
       "      <td>...</td>\n",
       "      <td>False</td>\n",
       "      <td>False</td>\n",
       "      <td>False</td>\n",
       "      <td>False</td>\n",
       "      <td>False</td>\n",
       "      <td>False</td>\n",
       "      <td>False</td>\n",
       "      <td>False</td>\n",
       "      <td>False</td>\n",
       "      <td>False</td>\n",
       "    </tr>\n",
       "    <tr>\n",
       "      <th>103432</th>\n",
       "      <td>False</td>\n",
       "      <td>False</td>\n",
       "      <td>False</td>\n",
       "      <td>False</td>\n",
       "      <td>False</td>\n",
       "      <td>False</td>\n",
       "      <td>False</td>\n",
       "      <td>False</td>\n",
       "      <td>False</td>\n",
       "      <td>False</td>\n",
       "      <td>...</td>\n",
       "      <td>False</td>\n",
       "      <td>False</td>\n",
       "      <td>False</td>\n",
       "      <td>False</td>\n",
       "      <td>False</td>\n",
       "      <td>False</td>\n",
       "      <td>False</td>\n",
       "      <td>False</td>\n",
       "      <td>False</td>\n",
       "      <td>False</td>\n",
       "    </tr>\n",
       "    <tr>\n",
       "      <th>62648</th>\n",
       "      <td>False</td>\n",
       "      <td>False</td>\n",
       "      <td>False</td>\n",
       "      <td>False</td>\n",
       "      <td>False</td>\n",
       "      <td>False</td>\n",
       "      <td>False</td>\n",
       "      <td>False</td>\n",
       "      <td>False</td>\n",
       "      <td>False</td>\n",
       "      <td>...</td>\n",
       "      <td>False</td>\n",
       "      <td>False</td>\n",
       "      <td>False</td>\n",
       "      <td>False</td>\n",
       "      <td>False</td>\n",
       "      <td>False</td>\n",
       "      <td>False</td>\n",
       "      <td>False</td>\n",
       "      <td>False</td>\n",
       "      <td>False</td>\n",
       "    </tr>\n",
       "    <tr>\n",
       "      <th>17527</th>\n",
       "      <td>False</td>\n",
       "      <td>False</td>\n",
       "      <td>False</td>\n",
       "      <td>False</td>\n",
       "      <td>False</td>\n",
       "      <td>False</td>\n",
       "      <td>False</td>\n",
       "      <td>False</td>\n",
       "      <td>False</td>\n",
       "      <td>False</td>\n",
       "      <td>...</td>\n",
       "      <td>False</td>\n",
       "      <td>False</td>\n",
       "      <td>False</td>\n",
       "      <td>False</td>\n",
       "      <td>False</td>\n",
       "      <td>False</td>\n",
       "      <td>False</td>\n",
       "      <td>False</td>\n",
       "      <td>False</td>\n",
       "      <td>False</td>\n",
       "    </tr>\n",
       "    <tr>\n",
       "      <th>203074</th>\n",
       "      <td>False</td>\n",
       "      <td>False</td>\n",
       "      <td>False</td>\n",
       "      <td>False</td>\n",
       "      <td>False</td>\n",
       "      <td>False</td>\n",
       "      <td>False</td>\n",
       "      <td>False</td>\n",
       "      <td>False</td>\n",
       "      <td>False</td>\n",
       "      <td>...</td>\n",
       "      <td>False</td>\n",
       "      <td>False</td>\n",
       "      <td>False</td>\n",
       "      <td>False</td>\n",
       "      <td>False</td>\n",
       "      <td>False</td>\n",
       "      <td>False</td>\n",
       "      <td>False</td>\n",
       "      <td>False</td>\n",
       "      <td>False</td>\n",
       "    </tr>\n",
       "  </tbody>\n",
       "</table>\n",
       "<p>50000 rows × 31 columns</p>\n",
       "</div>"
      ],
      "text/plain": [
       "         Time     V1     V2     V3     V4     V5     V6     V7     V8     V9  \\\n",
       "169876  False  False  False  False  False  False  False  False  False  False   \n",
       "127467  False  False  False  False  False  False  False  False  False  False   \n",
       "137900  False  False  False  False  False  False  False  False  False  False   \n",
       "21513   False  False  False  False  False  False  False  False  False  False   \n",
       "134700  False  False  False  False  False  False  False  False  False  False   \n",
       "...       ...    ...    ...    ...    ...    ...    ...    ...    ...    ...   \n",
       "73392   False  False  False  False  False  False  False  False  False  False   \n",
       "103432  False  False  False  False  False  False  False  False  False  False   \n",
       "62648   False  False  False  False  False  False  False  False  False  False   \n",
       "17527   False  False  False  False  False  False  False  False  False  False   \n",
       "203074  False  False  False  False  False  False  False  False  False  False   \n",
       "\n",
       "        ...    V21    V22    V23    V24    V25    V26    V27    V28  Amount  \\\n",
       "169876  ...  False  False  False  False  False  False  False  False   False   \n",
       "127467  ...  False  False  False  False  False  False  False  False   False   \n",
       "137900  ...  False  False  False  False  False  False  False  False   False   \n",
       "21513   ...  False  False  False  False  False  False  False  False   False   \n",
       "134700  ...  False  False  False  False  False  False  False  False   False   \n",
       "...     ...    ...    ...    ...    ...    ...    ...    ...    ...     ...   \n",
       "73392   ...  False  False  False  False  False  False  False  False   False   \n",
       "103432  ...  False  False  False  False  False  False  False  False   False   \n",
       "62648   ...  False  False  False  False  False  False  False  False   False   \n",
       "17527   ...  False  False  False  False  False  False  False  False   False   \n",
       "203074  ...  False  False  False  False  False  False  False  False   False   \n",
       "\n",
       "        Class  \n",
       "169876  False  \n",
       "127467  False  \n",
       "137900  False  \n",
       "21513   False  \n",
       "134700  False  \n",
       "...       ...  \n",
       "73392   False  \n",
       "103432  False  \n",
       "62648   False  \n",
       "17527   False  \n",
       "203074  False  \n",
       "\n",
       "[50000 rows x 31 columns]"
      ]
     },
     "execution_count": 7,
     "metadata": {},
     "output_type": "execute_result"
    }
   ],
   "source": [
    "credit_card_df.isnull()"
   ]
  },
  {
   "cell_type": "markdown",
   "metadata": {},
   "source": [
    "#                        Another way fo checking missing data"
   ]
  },
  {
   "cell_type": "code",
   "execution_count": 8,
   "metadata": {},
   "outputs": [
    {
     "data": {
      "text/plain": [
       "Time      0\n",
       "V1        0\n",
       "V2        0\n",
       "V3        0\n",
       "V4        0\n",
       "V5        0\n",
       "V6        0\n",
       "V7        0\n",
       "V8        0\n",
       "V9        0\n",
       "V10       0\n",
       "V11       0\n",
       "V12       0\n",
       "V13       0\n",
       "V14       0\n",
       "V15       0\n",
       "V16       0\n",
       "V17       0\n",
       "V18       0\n",
       "V19       0\n",
       "V20       0\n",
       "V21       0\n",
       "V22       0\n",
       "V23       0\n",
       "V24       0\n",
       "V25       0\n",
       "V26       0\n",
       "V27       0\n",
       "V28       0\n",
       "Amount    0\n",
       "Class     0\n",
       "dtype: int64"
      ]
     },
     "execution_count": 8,
     "metadata": {},
     "output_type": "execute_result"
    }
   ],
   "source": [
    "credit_card_df.isnull().sum()"
   ]
  },
  {
   "cell_type": "markdown",
   "metadata": {},
   "source": [
    "#                                 For more information of the data set"
   ]
  },
  {
   "cell_type": "code",
   "execution_count": 9,
   "metadata": {},
   "outputs": [
    {
     "data": {
      "text/html": [
       "<div>\n",
       "<style scoped>\n",
       "    .dataframe tbody tr th:only-of-type {\n",
       "        vertical-align: middle;\n",
       "    }\n",
       "\n",
       "    .dataframe tbody tr th {\n",
       "        vertical-align: top;\n",
       "    }\n",
       "\n",
       "    .dataframe thead th {\n",
       "        text-align: right;\n",
       "    }\n",
       "</style>\n",
       "<table border=\"1\" class=\"dataframe\">\n",
       "  <thead>\n",
       "    <tr style=\"text-align: right;\">\n",
       "      <th></th>\n",
       "      <th>Time</th>\n",
       "      <th>V1</th>\n",
       "      <th>V2</th>\n",
       "      <th>V3</th>\n",
       "      <th>V4</th>\n",
       "      <th>V5</th>\n",
       "      <th>V6</th>\n",
       "      <th>V7</th>\n",
       "      <th>V8</th>\n",
       "      <th>V9</th>\n",
       "      <th>...</th>\n",
       "      <th>V21</th>\n",
       "      <th>V22</th>\n",
       "      <th>V23</th>\n",
       "      <th>V24</th>\n",
       "      <th>V25</th>\n",
       "      <th>V26</th>\n",
       "      <th>V27</th>\n",
       "      <th>V28</th>\n",
       "      <th>Amount</th>\n",
       "      <th>Class</th>\n",
       "    </tr>\n",
       "  </thead>\n",
       "  <tbody>\n",
       "    <tr>\n",
       "      <th>count</th>\n",
       "      <td>50000.000000</td>\n",
       "      <td>50000.000000</td>\n",
       "      <td>50000.000000</td>\n",
       "      <td>50000.000000</td>\n",
       "      <td>50000.000000</td>\n",
       "      <td>50000.000000</td>\n",
       "      <td>50000.000000</td>\n",
       "      <td>50000.000000</td>\n",
       "      <td>50000.000000</td>\n",
       "      <td>50000.000000</td>\n",
       "      <td>...</td>\n",
       "      <td>50000.000000</td>\n",
       "      <td>50000.000000</td>\n",
       "      <td>50000.000000</td>\n",
       "      <td>50000.000000</td>\n",
       "      <td>50000.000000</td>\n",
       "      <td>50000.000000</td>\n",
       "      <td>50000.000000</td>\n",
       "      <td>50000.000000</td>\n",
       "      <td>50000.000000</td>\n",
       "      <td>50000.000000</td>\n",
       "    </tr>\n",
       "    <tr>\n",
       "      <th>mean</th>\n",
       "      <td>94568.237120</td>\n",
       "      <td>0.009375</td>\n",
       "      <td>-0.006388</td>\n",
       "      <td>0.007932</td>\n",
       "      <td>0.005389</td>\n",
       "      <td>-0.013584</td>\n",
       "      <td>0.002138</td>\n",
       "      <td>-0.012014</td>\n",
       "      <td>-0.000626</td>\n",
       "      <td>0.009799</td>\n",
       "      <td>...</td>\n",
       "      <td>0.003204</td>\n",
       "      <td>0.002161</td>\n",
       "      <td>-0.001578</td>\n",
       "      <td>-0.002866</td>\n",
       "      <td>-0.000264</td>\n",
       "      <td>0.002758</td>\n",
       "      <td>0.000194</td>\n",
       "      <td>-0.003018</td>\n",
       "      <td>88.835696</td>\n",
       "      <td>0.001560</td>\n",
       "    </tr>\n",
       "    <tr>\n",
       "      <th>std</th>\n",
       "      <td>47644.749181</td>\n",
       "      <td>1.944718</td>\n",
       "      <td>1.655675</td>\n",
       "      <td>1.496093</td>\n",
       "      <td>1.415263</td>\n",
       "      <td>1.373212</td>\n",
       "      <td>1.326671</td>\n",
       "      <td>1.207344</td>\n",
       "      <td>1.165860</td>\n",
       "      <td>1.094200</td>\n",
       "      <td>...</td>\n",
       "      <td>0.730002</td>\n",
       "      <td>0.724390</td>\n",
       "      <td>0.642273</td>\n",
       "      <td>0.602641</td>\n",
       "      <td>0.519139</td>\n",
       "      <td>0.482751</td>\n",
       "      <td>0.394789</td>\n",
       "      <td>0.300881</td>\n",
       "      <td>255.854804</td>\n",
       "      <td>0.039466</td>\n",
       "    </tr>\n",
       "    <tr>\n",
       "      <th>min</th>\n",
       "      <td>0.000000</td>\n",
       "      <td>-46.855047</td>\n",
       "      <td>-63.344698</td>\n",
       "      <td>-31.813586</td>\n",
       "      <td>-5.266509</td>\n",
       "      <td>-42.147898</td>\n",
       "      <td>-23.496714</td>\n",
       "      <td>-26.548144</td>\n",
       "      <td>-33.785407</td>\n",
       "      <td>-8.739670</td>\n",
       "      <td>...</td>\n",
       "      <td>-16.640785</td>\n",
       "      <td>-10.933144</td>\n",
       "      <td>-30.269720</td>\n",
       "      <td>-2.836627</td>\n",
       "      <td>-7.025783</td>\n",
       "      <td>-2.534330</td>\n",
       "      <td>-8.260909</td>\n",
       "      <td>-9.617915</td>\n",
       "      <td>0.000000</td>\n",
       "      <td>0.000000</td>\n",
       "    </tr>\n",
       "    <tr>\n",
       "      <th>25%</th>\n",
       "      <td>53707.250000</td>\n",
       "      <td>-0.912235</td>\n",
       "      <td>-0.606529</td>\n",
       "      <td>-0.887455</td>\n",
       "      <td>-0.842316</td>\n",
       "      <td>-0.707377</td>\n",
       "      <td>-0.765034</td>\n",
       "      <td>-0.562158</td>\n",
       "      <td>-0.206860</td>\n",
       "      <td>-0.634059</td>\n",
       "      <td>...</td>\n",
       "      <td>-0.227375</td>\n",
       "      <td>-0.541636</td>\n",
       "      <td>-0.162504</td>\n",
       "      <td>-0.357463</td>\n",
       "      <td>-0.317833</td>\n",
       "      <td>-0.325672</td>\n",
       "      <td>-0.071048</td>\n",
       "      <td>-0.053269</td>\n",
       "      <td>5.900000</td>\n",
       "      <td>0.000000</td>\n",
       "    </tr>\n",
       "    <tr>\n",
       "      <th>50%</th>\n",
       "      <td>84531.000000</td>\n",
       "      <td>0.034600</td>\n",
       "      <td>0.058804</td>\n",
       "      <td>0.181288</td>\n",
       "      <td>-0.009739</td>\n",
       "      <td>-0.071339</td>\n",
       "      <td>-0.270534</td>\n",
       "      <td>0.029527</td>\n",
       "      <td>0.023536</td>\n",
       "      <td>-0.041871</td>\n",
       "      <td>...</td>\n",
       "      <td>-0.030649</td>\n",
       "      <td>0.008707</td>\n",
       "      <td>-0.011542</td>\n",
       "      <td>0.038580</td>\n",
       "      <td>0.016487</td>\n",
       "      <td>-0.049156</td>\n",
       "      <td>0.001380</td>\n",
       "      <td>0.010736</td>\n",
       "      <td>22.255000</td>\n",
       "      <td>0.000000</td>\n",
       "    </tr>\n",
       "    <tr>\n",
       "      <th>75%</th>\n",
       "      <td>139321.000000</td>\n",
       "      <td>1.319965</td>\n",
       "      <td>0.801407</td>\n",
       "      <td>1.033060</td>\n",
       "      <td>0.748400</td>\n",
       "      <td>0.603720</td>\n",
       "      <td>0.401818</td>\n",
       "      <td>0.558740</td>\n",
       "      <td>0.325839</td>\n",
       "      <td>0.609796</td>\n",
       "      <td>...</td>\n",
       "      <td>0.186562</td>\n",
       "      <td>0.530342</td>\n",
       "      <td>0.148253</td>\n",
       "      <td>0.432802</td>\n",
       "      <td>0.350429</td>\n",
       "      <td>0.246083</td>\n",
       "      <td>0.090069</td>\n",
       "      <td>0.076237</td>\n",
       "      <td>78.000000</td>\n",
       "      <td>0.000000</td>\n",
       "    </tr>\n",
       "    <tr>\n",
       "      <th>max</th>\n",
       "      <td>172784.000000</td>\n",
       "      <td>2.411499</td>\n",
       "      <td>17.418649</td>\n",
       "      <td>4.069865</td>\n",
       "      <td>16.715537</td>\n",
       "      <td>34.099309</td>\n",
       "      <td>22.529298</td>\n",
       "      <td>36.677268</td>\n",
       "      <td>19.587773</td>\n",
       "      <td>9.272376</td>\n",
       "      <td>...</td>\n",
       "      <td>22.588989</td>\n",
       "      <td>6.090514</td>\n",
       "      <td>18.946734</td>\n",
       "      <td>3.962197</td>\n",
       "      <td>5.541598</td>\n",
       "      <td>3.155327</td>\n",
       "      <td>11.135740</td>\n",
       "      <td>15.373170</td>\n",
       "      <td>19656.530000</td>\n",
       "      <td>1.000000</td>\n",
       "    </tr>\n",
       "  </tbody>\n",
       "</table>\n",
       "<p>8 rows × 31 columns</p>\n",
       "</div>"
      ],
      "text/plain": [
       "                Time            V1            V2            V3            V4  \\\n",
       "count   50000.000000  50000.000000  50000.000000  50000.000000  50000.000000   \n",
       "mean    94568.237120      0.009375     -0.006388      0.007932      0.005389   \n",
       "std     47644.749181      1.944718      1.655675      1.496093      1.415263   \n",
       "min         0.000000    -46.855047    -63.344698    -31.813586     -5.266509   \n",
       "25%     53707.250000     -0.912235     -0.606529     -0.887455     -0.842316   \n",
       "50%     84531.000000      0.034600      0.058804      0.181288     -0.009739   \n",
       "75%    139321.000000      1.319965      0.801407      1.033060      0.748400   \n",
       "max    172784.000000      2.411499     17.418649      4.069865     16.715537   \n",
       "\n",
       "                 V5            V6            V7            V8            V9  \\\n",
       "count  50000.000000  50000.000000  50000.000000  50000.000000  50000.000000   \n",
       "mean      -0.013584      0.002138     -0.012014     -0.000626      0.009799   \n",
       "std        1.373212      1.326671      1.207344      1.165860      1.094200   \n",
       "min      -42.147898    -23.496714    -26.548144    -33.785407     -8.739670   \n",
       "25%       -0.707377     -0.765034     -0.562158     -0.206860     -0.634059   \n",
       "50%       -0.071339     -0.270534      0.029527      0.023536     -0.041871   \n",
       "75%        0.603720      0.401818      0.558740      0.325839      0.609796   \n",
       "max       34.099309     22.529298     36.677268     19.587773      9.272376   \n",
       "\n",
       "       ...           V21           V22           V23           V24  \\\n",
       "count  ...  50000.000000  50000.000000  50000.000000  50000.000000   \n",
       "mean   ...      0.003204      0.002161     -0.001578     -0.002866   \n",
       "std    ...      0.730002      0.724390      0.642273      0.602641   \n",
       "min    ...    -16.640785    -10.933144    -30.269720     -2.836627   \n",
       "25%    ...     -0.227375     -0.541636     -0.162504     -0.357463   \n",
       "50%    ...     -0.030649      0.008707     -0.011542      0.038580   \n",
       "75%    ...      0.186562      0.530342      0.148253      0.432802   \n",
       "max    ...     22.588989      6.090514     18.946734      3.962197   \n",
       "\n",
       "                V25           V26           V27           V28        Amount  \\\n",
       "count  50000.000000  50000.000000  50000.000000  50000.000000  50000.000000   \n",
       "mean      -0.000264      0.002758      0.000194     -0.003018     88.835696   \n",
       "std        0.519139      0.482751      0.394789      0.300881    255.854804   \n",
       "min       -7.025783     -2.534330     -8.260909     -9.617915      0.000000   \n",
       "25%       -0.317833     -0.325672     -0.071048     -0.053269      5.900000   \n",
       "50%        0.016487     -0.049156      0.001380      0.010736     22.255000   \n",
       "75%        0.350429      0.246083      0.090069      0.076237     78.000000   \n",
       "max        5.541598      3.155327     11.135740     15.373170  19656.530000   \n",
       "\n",
       "              Class  \n",
       "count  50000.000000  \n",
       "mean       0.001560  \n",
       "std        0.039466  \n",
       "min        0.000000  \n",
       "25%        0.000000  \n",
       "50%        0.000000  \n",
       "75%        0.000000  \n",
       "max        1.000000  \n",
       "\n",
       "[8 rows x 31 columns]"
      ]
     },
     "execution_count": 9,
     "metadata": {},
     "output_type": "execute_result"
    }
   ],
   "source": [
    "credit_card_df.describe()"
   ]
  },
  {
   "cell_type": "markdown",
   "metadata": {},
   "source": [
    "#        Whole data can be seen by plotting, when you cannot see them by data, So that can see the variables"
   ]
  },
  {
   "cell_type": "code",
   "execution_count": 10,
   "metadata": {},
   "outputs": [
    {
     "data": {
      "text/plain": [
       "<AxesSubplot:>"
      ]
     },
     "execution_count": 10,
     "metadata": {},
     "output_type": "execute_result"
    },
    {
     "data": {
      "image/png": "[encoded data removed]",
      "text/plain": [
       "<Figure size 432x288 with 1 Axes>"
      ]
     },
     "metadata": {
      "needs_background": "light"
     },
     "output_type": "display_data"
    }
   ],
   "source": [
    "sns.heatmap(credit_card_df.isnull(),yticklabels= False,cbar=False,cmap='viridis')"
   ]
  },
  {
   "cell_type": "code",
   "execution_count": 11,
   "metadata": {},
   "outputs": [],
   "source": [
    "#"
   ]
  },
  {
   "cell_type": "markdown",
   "metadata": {},
   "source": [
    "Unnecessary"
   ]
  },
  {
   "cell_type": "markdown",
   "metadata": {},
   "source": [
    "#     To see the attempts of fraud from the data set"
   ]
  },
  {
   "cell_type": "code",
   "execution_count": 12,
   "metadata": {},
   "outputs": [
    {
     "data": {
      "text/plain": [
       "[Text(0, 0, 'Not Fraud'), Text(1, 0, 'Fraud')]"
      ]
     },
     "execution_count": 12,
     "metadata": {},
     "output_type": "execute_result"
    },
    {
     "data": {
      "image/png": "[encoded data removed]",
      "text/plain": [
       "<Figure size 432x288 with 1 Axes>"
      ]
     },
     "metadata": {
      "needs_background": "light"
     },
     "output_type": "display_data"
    }
   ],
   "source": [
    "target = sns.countplot(x='Class', data=credit_card_df)\n",
    "target.set_xticklabels(['Not Fraud','Fraud'])"
   ]
  },
  {
   "cell_type": "markdown",
   "metadata": {},
   "source": [
    "#You should add comments explaining what you see. For example here you should say that data is very unbalanced.\n",
    "\n",
    "From the above plot, it is clearly very unblanced data. It means fradulant and non-fradulant are very unbalnced eacth other. If this is the case then requires special care when training and splitting the data.\n"
   ]
  },
  {
   "cell_type": "markdown",
   "metadata": {},
   "source": [
    "# Count the attempts of fraud from the data set based on the Class"
   ]
  },
  {
   "cell_type": "code",
   "execution_count": 13,
   "metadata": {},
   "outputs": [
    {
     "data": {
      "text/plain": [
       "0    49922\n",
       "1       78\n",
       "Name: Class, dtype: int64"
      ]
     },
     "execution_count": 13,
     "metadata": {},
     "output_type": "execute_result"
    }
   ],
   "source": [
    "credit_card_df['Class'].value_counts()"
   ]
  },
  {
   "cell_type": "markdown",
   "metadata": {},
   "source": [
    "#             To see any other avriables"
   ]
  },
  {
   "cell_type": "code",
   "execution_count": 14,
   "metadata": {},
   "outputs": [
    {
     "name": "stdout",
     "output_type": "stream",
     "text": [
      "<class 'pandas.core.frame.DataFrame'>\n",
      "Int64Index: 50000 entries, 169876 to 203074\n",
      "Data columns (total 31 columns):\n",
      " #   Column  Non-Null Count  Dtype  \n",
      "---  ------  --------------  -----  \n",
      " 0   Time    50000 non-null  float64\n",
      " 1   V1      50000 non-null  float64\n",
      " 2   V2      50000 non-null  float64\n",
      " 3   V3      50000 non-null  float64\n",
      " 4   V4      50000 non-null  float64\n",
      " 5   V5      50000 non-null  float64\n",
      " 6   V6      50000 non-null  float64\n",
      " 7   V7      50000 non-null  float64\n",
      " 8   V8      50000 non-null  float64\n",
      " 9   V9      50000 non-null  float64\n",
      " 10  V10     50000 non-null  float64\n",
      " 11  V11     50000 non-null  float64\n",
      " 12  V12     50000 non-null  float64\n",
      " 13  V13     50000 non-null  float64\n",
      " 14  V14     50000 non-null  float64\n",
      " 15  V15     50000 non-null  float64\n",
      " 16  V16     50000 non-null  float64\n",
      " 17  V17     50000 non-null  float64\n",
      " 18  V18     50000 non-null  float64\n",
      " 19  V19     50000 non-null  float64\n",
      " 20  V20     50000 non-null  float64\n",
      " 21  V21     50000 non-null  float64\n",
      " 22  V22     50000 non-null  float64\n",
      " 23  V23     50000 non-null  float64\n",
      " 24  V24     50000 non-null  float64\n",
      " 25  V25     50000 non-null  float64\n",
      " 26  V26     50000 non-null  float64\n",
      " 27  V27     50000 non-null  float64\n",
      " 28  V28     50000 non-null  float64\n",
      " 29  Amount  50000 non-null  float64\n",
      " 30  Class   50000 non-null  int64  \n",
      "dtypes: float64(30), int64(1)\n",
      "memory usage: 13.5 MB\n"
     ]
    }
   ],
   "source": [
    "credit_card_df.info()"
   ]
  },
  {
   "cell_type": "markdown",
   "metadata": {},
   "source": [
    "This is another way of seeing that the data does not contain any missing values. "
   ]
  },
  {
   "cell_type": "markdown",
   "metadata": {},
   "source": [
    "#      Check and find the data into train and test models - Logistic Regression"
   ]
  },
  {
   "cell_type": "code",
   "execution_count": 15,
   "metadata": {},
   "outputs": [],
   "source": [
    "# As we have seen data is very unbalanced. Let have look wtih few methods how do we approach and out come."
   ]
  },
  {
   "cell_type": "code",
   "execution_count": 16,
   "metadata": {},
   "outputs": [],
   "source": [
    "from sklearn.model_selection import train_test_split"
   ]
  },
  {
   "cell_type": "code",
   "execution_count": 17,
   "metadata": {},
   "outputs": [],
   "source": [
    "X = credit_card_df.drop('Class',axis=1)\n",
    "\n",
    "y = credit_card_df['Class']"
   ]
  },
  {
   "cell_type": "code",
   "execution_count": 18,
   "metadata": {},
   "outputs": [],
   "source": [
    "X_train, X_test, y_train, y_test = train_test_split(X, y, test_size=0.3, random_state=101)"
   ]
  },
  {
   "cell_type": "code",
   "execution_count": 19,
   "metadata": {},
   "outputs": [],
   "source": [
    "from sklearn.linear_model import LogisticRegression"
   ]
  },
  {
   "cell_type": "code",
   "execution_count": 20,
   "metadata": {},
   "outputs": [],
   "source": [
    "lgrmodel = LogisticRegression()"
   ]
  },
  {
   "cell_type": "code",
   "execution_count": 21,
   "metadata": {},
   "outputs": [
    {
     "data": {
      "text/plain": [
       "LogisticRegression()"
      ]
     },
     "execution_count": 21,
     "metadata": {},
     "output_type": "execute_result"
    }
   ],
   "source": [
    "lgrmodel.fit(X_train,y_train)"
   ]
  },
  {
   "cell_type": "code",
   "execution_count": 22,
   "metadata": {},
   "outputs": [],
   "source": [
    "predictions = lgrmodel.predict(X_test)"
   ]
  },
  {
   "cell_type": "code",
   "execution_count": 23,
   "metadata": {},
   "outputs": [],
   "source": [
    "from sklearn.metrics import classification_report, confusion_matrix"
   ]
  },
  {
   "cell_type": "code",
   "execution_count": 24,
   "metadata": {},
   "outputs": [
    {
     "name": "stdout",
     "output_type": "stream",
     "text": [
      "Confusion Matrix: \n",
      " [[14968     7]\n",
      " [   13    12]]\n",
      "Classification Report: \n",
      "               precision    recall  f1-score   support\n",
      "\n",
      "           0       1.00      1.00      1.00     14975\n",
      "           1       0.63      0.48      0.55        25\n",
      "\n",
      "    accuracy                           1.00     15000\n",
      "   macro avg       0.82      0.74      0.77     15000\n",
      "weighted avg       1.00      1.00      1.00     15000\n",
      "\n"
     ]
    }
   ],
   "source": [
    "print('Confusion Matrix: \\n', confusion_matrix(y_test, predictions))\n",
    "print('Classification Report: \\n', classification_report(y_test, predictions))"
   ]
  },
  {
   "cell_type": "code",
   "execution_count": 25,
   "metadata": {},
   "outputs": [],
   "source": [
    "# Using Resampling Techniques - Oversampling minority class\n"
   ]
  },
  {
   "cell_type": "code",
   "execution_count": 149,
   "metadata": {},
   "outputs": [],
   "source": [
    "from sklearn.utils import resample"
   ]
  },
  {
   "cell_type": "code",
   "execution_count": 150,
   "metadata": {},
   "outputs": [],
   "source": [
    "# Separte the features and target\n",
    "X = credit_card_df.drop('Class',axis=1) \n",
    "\n",
    "y = credit_card_df['Class']"
   ]
  },
  {
   "cell_type": "code",
   "execution_count": 151,
   "metadata": {},
   "outputs": [],
   "source": [
    "# train and test the data\n",
    "X_train, X_test, y_train, y_test = train_test_split(X, y, test_size=0.3, random_state=30)"
   ]
  },
  {
   "cell_type": "code",
   "execution_count": 152,
   "metadata": {},
   "outputs": [],
   "source": [
    "# concatenate the training data to the orginal data using Pandas\n",
    "X = pd.concat([X_train,y_train],axis=1)"
   ]
  },
  {
   "cell_type": "code",
   "execution_count": 153,
   "metadata": {},
   "outputs": [],
   "source": [
    "# separate the minority and majority classes\n",
    "not_fraud = X[X.Class==0]\n",
    "fraud = X[X.Class==1]"
   ]
  },
  {
   "cell_type": "code",
   "execution_count": 154,
   "metadata": {},
   "outputs": [],
   "source": [
    "# up sample the minority classes\n",
    "fraud_upsampled = resample(fraud, replace=True,n_samples=len(not_fraud),random_state=30)"
   ]
  },
  {
   "cell_type": "code",
   "execution_count": 155,
   "metadata": {},
   "outputs": [],
   "source": [
    "# Add majority and upsampled minority\n",
    "upsampled = pd.concat([not_fraud, fraud_upsampled])"
   ]
  },
  {
   "cell_type": "code",
   "execution_count": 156,
   "metadata": {},
   "outputs": [
    {
     "data": {
      "text/plain": [
       "1    34942\n",
       "0    34942\n",
       "Name: Class, dtype: int64"
      ]
     },
     "execution_count": 156,
     "metadata": {},
     "output_type": "execute_result"
    }
   ],
   "source": [
    "# Check and how many of them now\n",
    "upsampled.Class.value_counts()"
   ]
  },
  {
   "cell_type": "code",
   "execution_count": 157,
   "metadata": {},
   "outputs": [],
   "source": [
    "# From the above, now the data is balanced each other. Time to put this into logistic regressoion and perform.\n",
    "X_train = upsampled.drop('Class',axis=1)\n",
    "y_train = upsampled.Class"
   ]
  },
  {
   "cell_type": "code",
   "execution_count": 158,
   "metadata": {},
   "outputs": [],
   "source": [
    "upsampled = LogisticRegression(solver='liblinear')"
   ]
  },
  {
   "cell_type": "code",
   "execution_count": 159,
   "metadata": {},
   "outputs": [
    {
     "data": {
      "text/plain": [
       "LogisticRegression(solver='liblinear')"
      ]
     },
     "execution_count": 159,
     "metadata": {},
     "output_type": "execute_result"
    }
   ],
   "source": [
    "upsampled.fit(X_train,y_train)"
   ]
  },
  {
   "cell_type": "code",
   "execution_count": 160,
   "metadata": {},
   "outputs": [],
   "source": [
    "upsampled_pred = upsampled.predict(X_test)"
   ]
  },
  {
   "cell_type": "code",
   "execution_count": 161,
   "metadata": {},
   "outputs": [],
   "source": [
    "from sklearn.metrics import classification_report, confusion_matrix"
   ]
  },
  {
   "cell_type": "code",
   "execution_count": 162,
   "metadata": {},
   "outputs": [
    {
     "name": "stdout",
     "output_type": "stream",
     "text": [
      "Confusion Matrix: \n",
      " [[14282   698]\n",
      " [    1    19]]\n",
      "Classification Report: \n",
      "               precision    recall  f1-score   support\n",
      "\n",
      "           0       1.00      0.95      0.98     14980\n",
      "           1       0.03      0.95      0.05        20\n",
      "\n",
      "    accuracy                           0.95     15000\n",
      "   macro avg       0.51      0.95      0.51     15000\n",
      "weighted avg       1.00      0.95      0.97     15000\n",
      "\n"
     ]
    }
   ],
   "source": [
    "print('Confusion Matrix: \\n', confusion_matrix(y_test, upsampled_pred))\n",
    "print('Classification Report: \\n', classification_report(y_test, upsampled_pred))"
   ]
  },
  {
   "cell_type": "code",
   "execution_count": 40,
   "metadata": {},
   "outputs": [],
   "source": [
    "# There is very good improvement by oversampling technique compared to basic logistic regression model. Where, Recall and f1-score \n",
    "# recaching above 90%. Let's check with Undersampling the main data. Can see any improvements"
   ]
  },
  {
   "cell_type": "code",
   "execution_count": 41,
   "metadata": {},
   "outputs": [],
   "source": [
    "from sklearn.utils import resample"
   ]
  },
  {
   "cell_type": "code",
   "execution_count": 42,
   "metadata": {},
   "outputs": [],
   "source": [
    "# Separte the features and target\n",
    "X = credit_card_df.drop('Class',axis=1) \n",
    "\n",
    "y = credit_card_df['Class']"
   ]
  },
  {
   "cell_type": "code",
   "execution_count": 43,
   "metadata": {},
   "outputs": [],
   "source": [
    "# train and test the data\n",
    "X_train, X_test, y_train, y_test = train_test_split(X, y, test_size=0.3, random_state=30)"
   ]
  },
  {
   "cell_type": "code",
   "execution_count": 44,
   "metadata": {},
   "outputs": [],
   "source": [
    "# concatenate the training data to the orginal data using Pandas\n",
    "X = pd.concat([X_train,y_train],axis=1)"
   ]
  },
  {
   "cell_type": "code",
   "execution_count": 45,
   "metadata": {},
   "outputs": [],
   "source": [
    "# separate the minority and majority classes\n",
    "not_fraud = X[X.Class==0]\n",
    "fraud = X[X.Class==1]"
   ]
  },
  {
   "cell_type": "code",
   "execution_count": 46,
   "metadata": {},
   "outputs": [],
   "source": [
    "# downsample the majority classes\n",
    "not_fraud_downsampled = resample(not_fraud, replace=True,n_samples=len(fraud),random_state=30)"
   ]
  },
  {
   "cell_type": "code",
   "execution_count": 47,
   "metadata": {},
   "outputs": [],
   "source": [
    "# Add minority and downsampled majority\n",
    "downsampled = pd.concat([fraud, not_fraud_downsampled])"
   ]
  },
  {
   "cell_type": "code",
   "execution_count": 48,
   "metadata": {},
   "outputs": [
    {
     "data": {
      "text/plain": [
       "1    58\n",
       "0    58\n",
       "Name: Class, dtype: int64"
      ]
     },
     "execution_count": 48,
     "metadata": {},
     "output_type": "execute_result"
    }
   ],
   "source": [
    "# Check and how many of them now\n",
    "downsampled.Class.value_counts()"
   ]
  },
  {
   "cell_type": "code",
   "execution_count": 49,
   "metadata": {},
   "outputs": [],
   "source": [
    "# From the above, now the data is balanced each other. Time to put this into logistic regressoion and perform.\n",
    "X_train = downsampled.drop('Class',axis=1)\n",
    "y_train = downsampled.Class"
   ]
  },
  {
   "cell_type": "code",
   "execution_count": 50,
   "metadata": {},
   "outputs": [],
   "source": [
    "downsampled = LogisticRegression(solver='liblinear')"
   ]
  },
  {
   "cell_type": "code",
   "execution_count": 51,
   "metadata": {},
   "outputs": [
    {
     "data": {
      "text/plain": [
       "LogisticRegression(solver='liblinear')"
      ]
     },
     "execution_count": 51,
     "metadata": {},
     "output_type": "execute_result"
    }
   ],
   "source": [
    "downsampled.fit(X_train,y_train)"
   ]
  },
  {
   "cell_type": "code",
   "execution_count": 52,
   "metadata": {},
   "outputs": [],
   "source": [
    "downsampled_pred = downsampled.predict(X_test)"
   ]
  },
  {
   "cell_type": "code",
   "execution_count": 53,
   "metadata": {},
   "outputs": [],
   "source": [
    "from sklearn.metrics import classification_report, confusion_matrix"
   ]
  },
  {
   "cell_type": "code",
   "execution_count": 54,
   "metadata": {},
   "outputs": [
    {
     "name": "stdout",
     "output_type": "stream",
     "text": [
      "Confusion Matrix: \n",
      " [[14066   914]\n",
      " [    1    19]]\n",
      "Classification Report: \n",
      "               precision    recall  f1-score   support\n",
      "\n",
      "           0       1.00      0.94      0.97     14980\n",
      "           1       0.02      0.95      0.04        20\n",
      "\n",
      "    accuracy                           0.94     15000\n",
      "   macro avg       0.51      0.94      0.50     15000\n",
      "weighted avg       1.00      0.94      0.97     15000\n",
      "\n"
     ]
    }
   ],
   "source": [
    "print('Confusion Matrix: \\n', confusion_matrix(y_test, downsampled_pred))\n",
    "print('Classification Report: \\n', classification_report(y_test, downsampled_pred))"
   ]
  },
  {
   "cell_type": "code",
   "execution_count": 55,
   "metadata": {},
   "outputs": [],
   "source": [
    "# It is seen that Undersampling is not better than Oversampling because, it takes less data points compared to Oversampling.\n",
    "# hence Oversampling will gives us better results. Lets check other techinique which is called synthetic samples. It is \n",
    "# called SMOTE. It uses a nearest neighbors alogrithm tp genrate new and synthetic data to train the model."
   ]
  },
  {
   "cell_type": "code",
   "execution_count": 56,
   "metadata": {},
   "outputs": [],
   "source": [
    "#pip install imblearn"
   ]
  },
  {
   "cell_type": "code",
   "execution_count": 57,
   "metadata": {},
   "outputs": [],
   "source": [
    "from imblearn.over_sampling import SMOTE"
   ]
  },
  {
   "cell_type": "code",
   "execution_count": 58,
   "metadata": {},
   "outputs": [],
   "source": [
    "# Separte the features and target\n",
    "X = credit_card_df.drop('Class',axis=1) \n",
    "\n",
    "y = credit_card_df['Class']"
   ]
  },
  {
   "cell_type": "code",
   "execution_count": 59,
   "metadata": {},
   "outputs": [],
   "source": [
    "# train and test the data\n",
    "X_train, X_test, y_train, y_test = train_test_split(X, y, test_size=0.3, random_state=30)"
   ]
  },
  {
   "cell_type": "code",
   "execution_count": 60,
   "metadata": {},
   "outputs": [],
   "source": [
    "smt = SMOTE(random_state=27)"
   ]
  },
  {
   "cell_type": "code",
   "execution_count": 61,
   "metadata": {},
   "outputs": [],
   "source": [
    "X_train, y_train = smt.fit_sample(X_train, y_train)"
   ]
  },
  {
   "cell_type": "code",
   "execution_count": 62,
   "metadata": {},
   "outputs": [],
   "source": [
    "smote = LogisticRegression(solver='liblinear')"
   ]
  },
  {
   "cell_type": "code",
   "execution_count": 63,
   "metadata": {},
   "outputs": [
    {
     "data": {
      "text/plain": [
       "LogisticRegression(solver='liblinear')"
      ]
     },
     "execution_count": 63,
     "metadata": {},
     "output_type": "execute_result"
    }
   ],
   "source": [
    "smote.fit(X_train,y_train)"
   ]
  },
  {
   "cell_type": "code",
   "execution_count": 64,
   "metadata": {},
   "outputs": [],
   "source": [
    "smote_pred = smote.predict(X_test)"
   ]
  },
  {
   "cell_type": "code",
   "execution_count": 65,
   "metadata": {},
   "outputs": [],
   "source": [
    "from sklearn.metrics import classification_report, confusion_matrix"
   ]
  },
  {
   "cell_type": "code",
   "execution_count": 66,
   "metadata": {},
   "outputs": [
    {
     "name": "stdout",
     "output_type": "stream",
     "text": [
      "Confusion Matrix: \n",
      " [[14549   431]\n",
      " [    2    18]]\n",
      "Classification Report: \n",
      "               precision    recall  f1-score   support\n",
      "\n",
      "           0       1.00      0.97      0.99     14980\n",
      "           1       0.04      0.90      0.08        20\n",
      "\n",
      "    accuracy                           0.97     15000\n",
      "   macro avg       0.52      0.94      0.53     15000\n",
      "weighted avg       1.00      0.97      0.98     15000\n",
      "\n"
     ]
    }
   ],
   "source": [
    "print('Confusion Matrix: \\n', confusion_matrix(y_test, smote_pred))\n",
    "print('Classification Report: \\n', classification_report(y_test, smote_pred))"
   ]
  },
  {
   "cell_type": "code",
   "execution_count": 67,
   "metadata": {},
   "outputs": [],
   "source": [
    "# SMOTE obiviously increased score for recall and f1-score. Much better than Undersampling and are close to \n",
    "# oversampling technique. "
   ]
  },
  {
   "cell_type": "code",
   "execution_count": 96,
   "metadata": {},
   "outputs": [
    {
     "name": "stdout",
     "output_type": "stream",
     "text": [
      "<class 'pandas.core.frame.DataFrame'>\n",
      "Int64Index: 50000 entries, 169876 to 203074\n",
      "Data columns (total 31 columns):\n",
      " #   Column  Non-Null Count  Dtype  \n",
      "---  ------  --------------  -----  \n",
      " 0   Time    50000 non-null  float64\n",
      " 1   V1      50000 non-null  float64\n",
      " 2   V2      50000 non-null  float64\n",
      " 3   V3      50000 non-null  float64\n",
      " 4   V4      50000 non-null  float64\n",
      " 5   V5      50000 non-null  float64\n",
      " 6   V6      50000 non-null  float64\n",
      " 7   V7      50000 non-null  float64\n",
      " 8   V8      50000 non-null  float64\n",
      " 9   V9      50000 non-null  float64\n",
      " 10  V10     50000 non-null  float64\n",
      " 11  V11     50000 non-null  float64\n",
      " 12  V12     50000 non-null  float64\n",
      " 13  V13     50000 non-null  float64\n",
      " 14  V14     50000 non-null  float64\n",
      " 15  V15     50000 non-null  float64\n",
      " 16  V16     50000 non-null  float64\n",
      " 17  V17     50000 non-null  float64\n",
      " 18  V18     50000 non-null  float64\n",
      " 19  V19     50000 non-null  float64\n",
      " 20  V20     50000 non-null  float64\n",
      " 21  V21     50000 non-null  float64\n",
      " 22  V22     50000 non-null  float64\n",
      " 23  V23     50000 non-null  float64\n",
      " 24  V24     50000 non-null  float64\n",
      " 25  V25     50000 non-null  float64\n",
      " 26  V26     50000 non-null  float64\n",
      " 27  V27     50000 non-null  float64\n",
      " 28  V28     50000 non-null  float64\n",
      " 29  Amount  50000 non-null  float64\n",
      " 30  Class   50000 non-null  int64  \n",
      "dtypes: float64(30), int64(1)\n",
      "memory usage: 13.5 MB\n"
     ]
    }
   ],
   "source": [
    "credit_card_df.info()"
   ]
  },
  {
   "cell_type": "markdown",
   "metadata": {},
   "source": [
    "#           Random Forests model"
   ]
  },
  {
   "cell_type": "code",
   "execution_count": 120,
   "metadata": {},
   "outputs": [],
   "source": [
    "#from sklearn.model_selection import train_test_split"
   ]
  },
  {
   "cell_type": "code",
   "execution_count": 121,
   "metadata": {},
   "outputs": [],
   "source": [
    "#X = credit_card_df.drop('Class',axis=1)\n",
    "\n",
    "#y = credit_card_df['Class']"
   ]
  },
  {
   "cell_type": "code",
   "execution_count": 122,
   "metadata": {},
   "outputs": [],
   "source": [
    "#X_train, X_test, y_train, y_test = train_test_split(X, y, test_size=0.3)"
   ]
  },
  {
   "cell_type": "code",
   "execution_count": 123,
   "metadata": {},
   "outputs": [],
   "source": [
    "# random forest for imbalanced classification\n",
    "from numpy import mean\n",
    "from sklearn.datasets import make_classification\n",
    "from sklearn.model_selection import cross_val_score\n",
    "from sklearn.model_selection import RepeatedStratifiedKFold\n",
    "from sklearn.ensemble import RandomForestClassifier"
   ]
  },
  {
   "cell_type": "code",
   "execution_count": 124,
   "metadata": {},
   "outputs": [],
   "source": [
    "# generate dataset\n",
    "X, y = make_classification(n_samples=10000, n_features=2, n_redundant=0,\n",
    "                           n_clusters_per_class=1, weights=[0.99], flip_y=0, random_state=4)"
   ]
  },
  {
   "cell_type": "code",
   "execution_count": 125,
   "metadata": {},
   "outputs": [],
   "source": [
    "# Re-create the model\n",
    "Random_class = RandomForestClassifier(n_estimators=30)"
   ]
  },
  {
   "cell_type": "code",
   "execution_count": 126,
   "metadata": {},
   "outputs": [],
   "source": [
    "# define evaluation procedure\n",
    "cv = RepeatedStratifiedKFold(n_splits=10, n_repeats=3, random_state=1)"
   ]
  },
  {
   "cell_type": "code",
   "execution_count": 127,
   "metadata": {},
   "outputs": [],
   "source": [
    "# evaluate model\n",
    "scores = cross_val_score(Random_class, X, y, scoring='roc_auc', cv=cv, n_jobs=-1)"
   ]
  },
  {
   "cell_type": "code",
   "execution_count": 128,
   "metadata": {},
   "outputs": [
    {
     "name": "stdout",
     "output_type": "stream",
     "text": [
      "Mean ROC AUC: 0.896\n"
     ]
    }
   ],
   "source": [
    "# summarize performance\n",
    "print('Mean ROC AUC: %.3f' % mean(scores))"
   ]
  },
  {
   "cell_type": "markdown",
   "metadata": {},
   "source": [
    "#     K-nearest neighbours model"
   ]
  },
  {
   "cell_type": "code",
   "execution_count": 129,
   "metadata": {},
   "outputs": [],
   "source": [
    "from sklearn.preprocessing import StandardScaler"
   ]
  },
  {
   "cell_type": "code",
   "execution_count": 130,
   "metadata": {},
   "outputs": [],
   "source": [
    "KScaler = StandardScaler()"
   ]
  },
  {
   "cell_type": "code",
   "execution_count": 131,
   "metadata": {},
   "outputs": [
    {
     "data": {
      "text/plain": [
       "StandardScaler()"
      ]
     },
     "execution_count": 131,
     "metadata": {},
     "output_type": "execute_result"
    }
   ],
   "source": [
    "KScaler.fit(credit_card_df.drop('Class',axis=1))"
   ]
  },
  {
   "cell_type": "code",
   "execution_count": 132,
   "metadata": {},
   "outputs": [],
   "source": [
    "Scaled_feat = KScaler.transform(credit_card_df.drop('Class',axis=1))"
   ]
  },
  {
   "cell_type": "code",
   "execution_count": 133,
   "metadata": {},
   "outputs": [],
   "source": [
    "credit_card_df_feat = pd.DataFrame(Scaled_feat,columns = credit_card_df.columns[:-1])"
   ]
  },
  {
   "cell_type": "code",
   "execution_count": 134,
   "metadata": {},
   "outputs": [
    {
     "data": {
      "text/html": [
       "<div>\n",
       "<style scoped>\n",
       "    .dataframe tbody tr th:only-of-type {\n",
       "        vertical-align: middle;\n",
       "    }\n",
       "\n",
       "    .dataframe tbody tr th {\n",
       "        vertical-align: top;\n",
       "    }\n",
       "\n",
       "    .dataframe thead th {\n",
       "        text-align: right;\n",
       "    }\n",
       "</style>\n",
       "<table border=\"1\" class=\"dataframe\">\n",
       "  <thead>\n",
       "    <tr style=\"text-align: right;\">\n",
       "      <th></th>\n",
       "      <th>Time</th>\n",
       "      <th>V1</th>\n",
       "      <th>V2</th>\n",
       "      <th>V3</th>\n",
       "      <th>V4</th>\n",
       "      <th>V5</th>\n",
       "      <th>V6</th>\n",
       "      <th>V7</th>\n",
       "      <th>V8</th>\n",
       "      <th>V9</th>\n",
       "      <th>...</th>\n",
       "      <th>V20</th>\n",
       "      <th>V21</th>\n",
       "      <th>V22</th>\n",
       "      <th>V23</th>\n",
       "      <th>V24</th>\n",
       "      <th>V25</th>\n",
       "      <th>V26</th>\n",
       "      <th>V27</th>\n",
       "      <th>V28</th>\n",
       "      <th>Amount</th>\n",
       "    </tr>\n",
       "  </thead>\n",
       "  <tbody>\n",
       "    <tr>\n",
       "      <th>0</th>\n",
       "      <td>0.531832</td>\n",
       "      <td>-0.319374</td>\n",
       "      <td>-0.461036</td>\n",
       "      <td>-0.105403</td>\n",
       "      <td>-0.162703</td>\n",
       "      <td>1.487157</td>\n",
       "      <td>-1.524150</td>\n",
       "      <td>0.252213</td>\n",
       "      <td>-0.448081</td>\n",
       "      <td>0.318656</td>\n",
       "      <td>...</td>\n",
       "      <td>-0.262078</td>\n",
       "      <td>-0.107415</td>\n",
       "      <td>0.059879</td>\n",
       "      <td>0.595263</td>\n",
       "      <td>0.043651</td>\n",
       "      <td>-4.277169</td>\n",
       "      <td>-0.422383</td>\n",
       "      <td>0.167959</td>\n",
       "      <td>0.745143</td>\n",
       "      <td>-0.340219</td>\n",
       "    </tr>\n",
       "    <tr>\n",
       "      <th>1</th>\n",
       "      <td>-0.340613</td>\n",
       "      <td>-0.423745</td>\n",
       "      <td>0.800652</td>\n",
       "      <td>0.883298</td>\n",
       "      <td>0.015463</td>\n",
       "      <td>-0.197558</td>\n",
       "      <td>-0.494568</td>\n",
       "      <td>0.276283</td>\n",
       "      <td>0.374492</td>\n",
       "      <td>-0.652626</td>\n",
       "      <td>...</td>\n",
       "      <td>-0.015194</td>\n",
       "      <td>-0.180581</td>\n",
       "      <td>-0.511782</td>\n",
       "      <td>0.143612</td>\n",
       "      <td>0.670410</td>\n",
       "      <td>-0.502317</td>\n",
       "      <td>0.161291</td>\n",
       "      <td>0.410942</td>\n",
       "      <td>0.207639</td>\n",
       "      <td>-0.339476</td>\n",
       "    </tr>\n",
       "    <tr>\n",
       "      <th>2</th>\n",
       "      <td>-0.255775</td>\n",
       "      <td>-0.168442</td>\n",
       "      <td>0.679491</td>\n",
       "      <td>0.642969</td>\n",
       "      <td>-0.093581</td>\n",
       "      <td>0.424663</td>\n",
       "      <td>-0.402984</td>\n",
       "      <td>0.594920</td>\n",
       "      <td>-0.055188</td>\n",
       "      <td>-0.432347</td>\n",
       "      <td>...</td>\n",
       "      <td>0.268750</td>\n",
       "      <td>-0.422752</td>\n",
       "      <td>-1.072450</td>\n",
       "      <td>-0.190430</td>\n",
       "      <td>-0.817777</td>\n",
       "      <td>-0.034450</td>\n",
       "      <td>0.246342</td>\n",
       "      <td>0.630358</td>\n",
       "      <td>0.317515</td>\n",
       "      <td>-0.343736</td>\n",
       "    </tr>\n",
       "    <tr>\n",
       "      <th>3</th>\n",
       "      <td>-1.319177</td>\n",
       "      <td>-0.687842</td>\n",
       "      <td>0.618948</td>\n",
       "      <td>1.181418</td>\n",
       "      <td>-1.116116</td>\n",
       "      <td>-0.075817</td>\n",
       "      <td>-0.346639</td>\n",
       "      <td>0.574723</td>\n",
       "      <td>-0.026603</td>\n",
       "      <td>0.341872</td>\n",
       "      <td>...</td>\n",
       "      <td>0.413707</td>\n",
       "      <td>-0.306878</td>\n",
       "      <td>-0.581425</td>\n",
       "      <td>-0.369970</td>\n",
       "      <td>0.021294</td>\n",
       "      <td>0.449005</td>\n",
       "      <td>1.680839</td>\n",
       "      <td>0.249765</td>\n",
       "      <td>-0.004172</td>\n",
       "      <td>-0.284757</td>\n",
       "    </tr>\n",
       "    <tr>\n",
       "      <th>4</th>\n",
       "      <td>-0.286398</td>\n",
       "      <td>0.651688</td>\n",
       "      <td>0.376592</td>\n",
       "      <td>-0.391654</td>\n",
       "      <td>0.617407</td>\n",
       "      <td>0.054828</td>\n",
       "      <td>-1.111168</td>\n",
       "      <td>0.319470</td>\n",
       "      <td>-0.245811</td>\n",
       "      <td>-0.086165</td>\n",
       "      <td>...</td>\n",
       "      <td>-0.142262</td>\n",
       "      <td>-0.223790</td>\n",
       "      <td>-0.597149</td>\n",
       "      <td>-0.117024</td>\n",
       "      <td>0.434049</td>\n",
       "      <td>1.064147</td>\n",
       "      <td>0.762187</td>\n",
       "      <td>-0.087258</td>\n",
       "      <td>0.148654</td>\n",
       "      <td>-0.344244</td>\n",
       "    </tr>\n",
       "  </tbody>\n",
       "</table>\n",
       "<p>5 rows × 30 columns</p>\n",
       "</div>"
      ],
      "text/plain": [
       "       Time        V1        V2        V3        V4        V5        V6  \\\n",
       "0  0.531832 -0.319374 -0.461036 -0.105403 -0.162703  1.487157 -1.524150   \n",
       "1 -0.340613 -0.423745  0.800652  0.883298  0.015463 -0.197558 -0.494568   \n",
       "2 -0.255775 -0.168442  0.679491  0.642969 -0.093581  0.424663 -0.402984   \n",
       "3 -1.319177 -0.687842  0.618948  1.181418 -1.116116 -0.075817 -0.346639   \n",
       "4 -0.286398  0.651688  0.376592 -0.391654  0.617407  0.054828 -1.111168   \n",
       "\n",
       "         V7        V8        V9  ...       V20       V21       V22       V23  \\\n",
       "0  0.252213 -0.448081  0.318656  ... -0.262078 -0.107415  0.059879  0.595263   \n",
       "1  0.276283  0.374492 -0.652626  ... -0.015194 -0.180581 -0.511782  0.143612   \n",
       "2  0.594920 -0.055188 -0.432347  ...  0.268750 -0.422752 -1.072450 -0.190430   \n",
       "3  0.574723 -0.026603  0.341872  ...  0.413707 -0.306878 -0.581425 -0.369970   \n",
       "4  0.319470 -0.245811 -0.086165  ... -0.142262 -0.223790 -0.597149 -0.117024   \n",
       "\n",
       "        V24       V25       V26       V27       V28    Amount  \n",
       "0  0.043651 -4.277169 -0.422383  0.167959  0.745143 -0.340219  \n",
       "1  0.670410 -0.502317  0.161291  0.410942  0.207639 -0.339476  \n",
       "2 -0.817777 -0.034450  0.246342  0.630358  0.317515 -0.343736  \n",
       "3  0.021294  0.449005  1.680839  0.249765 -0.004172 -0.284757  \n",
       "4  0.434049  1.064147  0.762187 -0.087258  0.148654 -0.344244  \n",
       "\n",
       "[5 rows x 30 columns]"
      ]
     },
     "execution_count": 134,
     "metadata": {},
     "output_type": "execute_result"
    }
   ],
   "source": [
    "credit_card_df_feat.head()"
   ]
  },
  {
   "cell_type": "code",
   "execution_count": 164,
   "metadata": {},
   "outputs": [],
   "source": [
    "from sklearn.model_selection import train_test_split"
   ]
  },
  {
   "cell_type": "code",
   "execution_count": 166,
   "metadata": {},
   "outputs": [],
   "source": [
    "X = credit_card_df_feat\n",
    "\n",
    "y = credit_card_df['Class']\n",
    "\n",
    "X_train, X_test, y_train, y_test = train_test_split(X, y, test_size=0.3,random_state=101)"
   ]
  },
  {
   "cell_type": "code",
   "execution_count": 167,
   "metadata": {},
   "outputs": [],
   "source": [
    "from sklearn.neighbors import KNeighborsClassifier"
   ]
  },
  {
   "cell_type": "code",
   "execution_count": 168,
   "metadata": {},
   "outputs": [],
   "source": [
    "knn = KNeighborsClassifier(n_neighbors=5)"
   ]
  },
  {
   "cell_type": "code",
   "execution_count": 172,
   "metadata": {},
   "outputs": [
    {
     "data": {
      "text/plain": [
       "KNeighborsClassifier()"
      ]
     },
     "execution_count": 172,
     "metadata": {},
     "output_type": "execute_result"
    }
   ],
   "source": [
    "knn.fit(X_train,y_train)"
   ]
  },
  {
   "cell_type": "code",
   "execution_count": 173,
   "metadata": {},
   "outputs": [
    {
     "data": {
      "text/plain": [
       "(15000, 30)"
      ]
     },
     "execution_count": 173,
     "metadata": {},
     "output_type": "execute_result"
    }
   ],
   "source": [
    "X_test.shape"
   ]
  },
  {
   "cell_type": "code",
   "execution_count": 174,
   "metadata": {},
   "outputs": [],
   "source": [
    "knn_pred = knn.predict(X_test.sample(n=15000, random_state=1))"
   ]
  },
  {
   "cell_type": "code",
   "execution_count": 175,
   "metadata": {},
   "outputs": [],
   "source": [
    "from sklearn.metrics import classification_report,confusion_matrix"
   ]
  },
  {
   "cell_type": "code",
   "execution_count": 177,
   "metadata": {},
   "outputs": [
    {
     "name": "stdout",
     "output_type": "stream",
     "text": [
      "Confusion Matrix: \n",
      " [[14973     2]\n",
      " [   11    14]]\n",
      "Classification Report: \n",
      "               precision    recall  f1-score   support\n",
      "\n",
      "           0       1.00      1.00      1.00     14975\n",
      "           1       0.88      0.56      0.68        25\n",
      "\n",
      "    accuracy                           1.00     15000\n",
      "   macro avg       0.94      0.78      0.84     15000\n",
      "weighted avg       1.00      1.00      1.00     15000\n",
      "\n"
     ]
    }
   ],
   "source": [
    "print('Confusion Matrix: \\n', confusion_matrix(y_test.sample(n=15000, random_state=1), knn_pred))\n",
    "print('Classification Report: \\n', classification_report(y_test.sample(n=15000, random_state=1), knn_pred))"
   ]
  },
  {
   "cell_type": "markdown",
   "metadata": {},
   "source": [
    "#  To choose correct K value using elbow method"
   ]
  },
  {
   "cell_type": "code",
   "execution_count": 181,
   "metadata": {},
   "outputs": [],
   "source": [
    "error_rate=[]\n",
    "\n",
    "# Can increase range for better K\n",
    "# Choose the best K from the plot\n",
    "for i in range (1,20):\n",
    "    knn = KNeighborsClassifier(n_neighbors=i)\n",
    "    knn.fit(X_train,y_train)\n",
    "    knn_i_pred = knn.predict(X_test)\n",
    "    error_rate.append(np.mean(knn_i_pred!=y_test))"
   ]
  },
  {
   "cell_type": "code",
   "execution_count": 182,
   "metadata": {},
   "outputs": [
    {
     "data": {
      "text/plain": [
       "Text(0, 0.5, 'Error Rate')"
      ]
     },
     "execution_count": 182,
     "metadata": {},
     "output_type": "execute_result"
    },
    {
     "data": {
      "image/png": "[encoded data removed]",
      "text/plain": [
       "<Figure size 720x432 with 1 Axes>"
      ]
     },
     "metadata": {
      "needs_background": "light"
     },
     "output_type": "display_data"
    }
   ],
   "source": [
    "#To help us to choose the best k by plotting error rate as below. Look for K where it is consistence from the graph \n",
    "plt.figure(figsize=(10,6))\n",
    "plt.plot(range(1,20),error_rate,color='black',linestyle='--',marker='x',markerfacecolor='red',markersize=10)\n",
    "plt.title('@error Rate Vs K value')\n",
    "plt.xlabel('K')\n",
    "plt.ylabel('Error Rate')"
   ]
  },
  {
   "cell_type": "code",
   "execution_count": 234,
   "metadata": {},
   "outputs": [],
   "source": [
    "# From the above plot at k=11 is best to choose as an average either side of data set (between lowest and highest)\n",
    "knn = KNeighborsClassifier(n_neighbors=11)"
   ]
  },
  {
   "cell_type": "code",
   "execution_count": 235,
   "metadata": {},
   "outputs": [
    {
     "data": {
      "text/plain": [
       "KNeighborsClassifier(n_neighbors=11)"
      ]
     },
     "execution_count": 235,
     "metadata": {},
     "output_type": "execute_result"
    }
   ],
   "source": [
    "# Again fit the model\n",
    "knn.fit(X_train,y_train)"
   ]
  },
  {
   "cell_type": "code",
   "execution_count": 237,
   "metadata": {},
   "outputs": [],
   "source": [
    "# Predict the model\n",
    "knn_pred = knn.predict(X_test)"
   ]
  },
  {
   "cell_type": "code",
   "execution_count": 238,
   "metadata": {},
   "outputs": [
    {
     "name": "stdout",
     "output_type": "stream",
     "text": [
      "Confusion Matrix: \n",
      " [[14973     2]\n",
      " [    9    16]]\n",
      "Classification Report: \n",
      "               precision    recall  f1-score   support\n",
      "\n",
      "           0       1.00      1.00      1.00     14975\n",
      "           1       0.89      0.64      0.74        25\n",
      "\n",
      "    accuracy                           1.00     15000\n",
      "   macro avg       0.94      0.82      0.87     15000\n",
      "weighted avg       1.00      1.00      1.00     15000\n",
      "\n"
     ]
    }
   ],
   "source": [
    "# Score summary\n",
    "print('Confusion Matrix: \\n', confusion_matrix(y_test, knn_pred))\n",
    "print('Classification Report: \\n', classification_report(y_test, knn_pred))"
   ]
  },
  {
   "cell_type": "code",
   "execution_count": null,
   "metadata": {},
   "outputs": [],
   "source": [
    "# With Elbow method score improves much better compared standard K Neighbors."
   ]
  },
  {
   "cell_type": "markdown",
   "metadata": {},
   "source": [
    "#   Support Vector Machines model"
   ]
  },
  {
   "cell_type": "code",
   "execution_count": 201,
   "metadata": {},
   "outputs": [],
   "source": [
    "from sklearn.svm import SVC"
   ]
  },
  {
   "cell_type": "code",
   "execution_count": 202,
   "metadata": {},
   "outputs": [],
   "source": [
    "svc_model = SVC()"
   ]
  },
  {
   "cell_type": "code",
   "execution_count": 203,
   "metadata": {},
   "outputs": [
    {
     "data": {
      "text/plain": [
       "SVC()"
      ]
     },
     "execution_count": 203,
     "metadata": {},
     "output_type": "execute_result"
    }
   ],
   "source": [
    "svc_model.fit(X_train,y_train)"
   ]
  },
  {
   "cell_type": "code",
   "execution_count": 204,
   "metadata": {},
   "outputs": [],
   "source": [
    "svc_pred = svc_model.predict(X_test)"
   ]
  },
  {
   "cell_type": "code",
   "execution_count": 205,
   "metadata": {},
   "outputs": [],
   "source": [
    "from sklearn.metrics import classification_report,confusion_matrix"
   ]
  },
  {
   "cell_type": "code",
   "execution_count": 206,
   "metadata": {},
   "outputs": [
    {
     "name": "stdout",
     "output_type": "stream",
     "text": [
      "Confusion Matrix: \n",
      " [[14975     0]\n",
      " [   17     8]]\n",
      "Classification Report: \n",
      "               precision    recall  f1-score   support\n",
      "\n",
      "           0       1.00      1.00      1.00     14975\n",
      "           1       1.00      0.32      0.48        25\n",
      "\n",
      "    accuracy                           1.00     15000\n",
      "   macro avg       1.00      0.66      0.74     15000\n",
      "weighted avg       1.00      1.00      1.00     15000\n",
      "\n"
     ]
    }
   ],
   "source": [
    "print('Confusion Matrix: \\n', confusion_matrix(y_test, svc_pred))\n",
    "print('Classification Report: \\n', classification_report(y_test, svc_pred))"
   ]
  },
  {
   "cell_type": "markdown",
   "metadata": {},
   "source": [
    "#      Optimisation using GridSearchCV"
   ]
  },
  {
   "cell_type": "code",
   "execution_count": 208,
   "metadata": {},
   "outputs": [],
   "source": [
    "from sklearn.model_selection import GridSearchCV"
   ]
  },
  {
   "cell_type": "code",
   "execution_count": 229,
   "metadata": {},
   "outputs": [],
   "source": [
    "# Create a dictionary and fill some parameter for C and gamma on SVC()\n",
    "param_grid = {'C':[0.1,1,10,100],'gamma':[1.0,0.1,0.01,0.001]}"
   ]
  },
  {
   "cell_type": "code",
   "execution_count": 231,
   "metadata": {},
   "outputs": [
    {
     "name": "stdout",
     "output_type": "stream",
     "text": [
      "Fitting 5 folds for each of 16 candidates, totalling 80 fits\n",
      "[CV] C=0.1, gamma=1.0 ................................................\n"
     ]
    },
    {
     "name": "stderr",
     "output_type": "stream",
     "text": [
      "[Parallel(n_jobs=1)]: Using backend SequentialBackend with 1 concurrent workers.\n"
     ]
    },
    {
     "name": "stdout",
     "output_type": "stream",
     "text": [
      "[CV] ................................. C=0.1, gamma=1.0, total=  12.0s\n",
      "[CV] C=0.1, gamma=1.0 ................................................\n"
     ]
    },
    {
     "name": "stderr",
     "output_type": "stream",
     "text": [
      "[Parallel(n_jobs=1)]: Done   1 out of   1 | elapsed:   11.9s remaining:    0.0s\n"
     ]
    },
    {
     "name": "stdout",
     "output_type": "stream",
     "text": [
      "[CV] ................................. C=0.1, gamma=1.0, total=  12.2s\n",
      "[CV] C=0.1, gamma=1.0 ................................................\n",
      "[CV] ................................. C=0.1, gamma=1.0, total=  11.7s\n",
      "[CV] C=0.1, gamma=1.0 ................................................\n",
      "[CV] ................................. C=0.1, gamma=1.0, total=  11.7s\n",
      "[CV] C=0.1, gamma=1.0 ................................................\n",
      "[CV] ................................. C=0.1, gamma=1.0, total=  11.6s\n",
      "[CV] C=0.1, gamma=0.1 ................................................\n",
      "[CV] ................................. C=0.1, gamma=0.1, total=   4.5s\n",
      "[CV] C=0.1, gamma=0.1 ................................................\n",
      "[CV] ................................. C=0.1, gamma=0.1, total=   4.2s\n",
      "[CV] C=0.1, gamma=0.1 ................................................\n",
      "[CV] ................................. C=0.1, gamma=0.1, total=   4.5s\n",
      "[CV] C=0.1, gamma=0.1 ................................................\n",
      "[CV] ................................. C=0.1, gamma=0.1, total=   4.3s\n",
      "[CV] C=0.1, gamma=0.1 ................................................\n",
      "[CV] ................................. C=0.1, gamma=0.1, total=   5.1s\n",
      "[CV] C=0.1, gamma=0.01 ...............................................\n",
      "[CV] ................................ C=0.1, gamma=0.01, total=   0.5s\n",
      "[CV] C=0.1, gamma=0.01 ...............................................\n",
      "[CV] ................................ C=0.1, gamma=0.01, total=   0.5s\n",
      "[CV] C=0.1, gamma=0.01 ...............................................\n",
      "[CV] ................................ C=0.1, gamma=0.01, total=   0.5s\n",
      "[CV] C=0.1, gamma=0.01 ...............................................\n",
      "[CV] ................................ C=0.1, gamma=0.01, total=   0.5s\n",
      "[CV] C=0.1, gamma=0.01 ...............................................\n",
      "[CV] ................................ C=0.1, gamma=0.01, total=   0.4s\n",
      "[CV] C=0.1, gamma=0.001 ..............................................\n",
      "[CV] ............................... C=0.1, gamma=0.001, total=   0.2s\n",
      "[CV] C=0.1, gamma=0.001 ..............................................\n",
      "[CV] ............................... C=0.1, gamma=0.001, total=   0.2s\n",
      "[CV] C=0.1, gamma=0.001 ..............................................\n",
      "[CV] ............................... C=0.1, gamma=0.001, total=   0.2s\n",
      "[CV] C=0.1, gamma=0.001 ..............................................\n",
      "[CV] ............................... C=0.1, gamma=0.001, total=   0.2s\n",
      "[CV] C=0.1, gamma=0.001 ..............................................\n",
      "[CV] ............................... C=0.1, gamma=0.001, total=   0.2s\n",
      "[CV] C=1, gamma=1.0 ..................................................\n",
      "[CV] ................................... C=1, gamma=1.0, total=  59.6s\n",
      "[CV] C=1, gamma=1.0 ..................................................\n",
      "[CV] ................................... C=1, gamma=1.0, total= 1.1min\n",
      "[CV] C=1, gamma=1.0 ..................................................\n",
      "[CV] ................................... C=1, gamma=1.0, total= 1.1min\n",
      "[CV] C=1, gamma=1.0 ..................................................\n",
      "[CV] ................................... C=1, gamma=1.0, total= 1.0min\n",
      "[CV] C=1, gamma=1.0 ..................................................\n",
      "[CV] ................................... C=1, gamma=1.0, total= 1.1min\n",
      "[CV] C=1, gamma=0.1 ..................................................\n",
      "[CV] ................................... C=1, gamma=0.1, total=   9.7s\n",
      "[CV] C=1, gamma=0.1 ..................................................\n",
      "[CV] ................................... C=1, gamma=0.1, total=   9.9s\n",
      "[CV] C=1, gamma=0.1 ..................................................\n",
      "[CV] ................................... C=1, gamma=0.1, total=   9.5s\n",
      "[CV] C=1, gamma=0.1 ..................................................\n",
      "[CV] ................................... C=1, gamma=0.1, total=   9.0s\n",
      "[CV] C=1, gamma=0.1 ..................................................\n",
      "[CV] ................................... C=1, gamma=0.1, total=  10.6s\n",
      "[CV] C=1, gamma=0.01 .................................................\n",
      "[CV] .................................. C=1, gamma=0.01, total=   0.5s\n",
      "[CV] C=1, gamma=0.01 .................................................\n",
      "[CV] .................................. C=1, gamma=0.01, total=   0.6s\n",
      "[CV] C=1, gamma=0.01 .................................................\n",
      "[CV] .................................. C=1, gamma=0.01, total=   0.5s\n",
      "[CV] C=1, gamma=0.01 .................................................\n",
      "[CV] .................................. C=1, gamma=0.01, total=   0.5s\n",
      "[CV] C=1, gamma=0.01 .................................................\n",
      "[CV] .................................. C=1, gamma=0.01, total=   0.5s\n",
      "[CV] C=1, gamma=0.001 ................................................\n",
      "[CV] ................................. C=1, gamma=0.001, total=   0.2s\n",
      "[CV] C=1, gamma=0.001 ................................................\n",
      "[CV] ................................. C=1, gamma=0.001, total=   0.2s\n",
      "[CV] C=1, gamma=0.001 ................................................\n",
      "[CV] ................................. C=1, gamma=0.001, total=   0.2s\n",
      "[CV] C=1, gamma=0.001 ................................................\n",
      "[CV] ................................. C=1, gamma=0.001, total=   0.2s\n",
      "[CV] C=1, gamma=0.001 ................................................\n",
      "[CV] ................................. C=1, gamma=0.001, total=   0.2s\n",
      "[CV] C=10, gamma=1.0 .................................................\n",
      "[CV] .................................. C=10, gamma=1.0, total= 1.3min\n",
      "[CV] C=10, gamma=1.0 .................................................\n",
      "[CV] .................................. C=10, gamma=1.0, total= 1.3min\n",
      "[CV] C=10, gamma=1.0 .................................................\n",
      "[CV] .................................. C=10, gamma=1.0, total= 1.3min\n",
      "[CV] C=10, gamma=1.0 .................................................\n",
      "[CV] .................................. C=10, gamma=1.0, total= 1.3min\n",
      "[CV] C=10, gamma=1.0 .................................................\n",
      "[CV] .................................. C=10, gamma=1.0, total= 1.3min\n",
      "[CV] C=10, gamma=0.1 .................................................\n",
      "[CV] .................................. C=10, gamma=0.1, total=   7.2s\n",
      "[CV] C=10, gamma=0.1 .................................................\n",
      "[CV] .................................. C=10, gamma=0.1, total=   7.2s\n",
      "[CV] C=10, gamma=0.1 .................................................\n",
      "[CV] .................................. C=10, gamma=0.1, total=   6.9s\n",
      "[CV] C=10, gamma=0.1 .................................................\n",
      "[CV] .................................. C=10, gamma=0.1, total=   6.9s\n",
      "[CV] C=10, gamma=0.1 .................................................\n",
      "[CV] .................................. C=10, gamma=0.1, total=  10.2s\n",
      "[CV] C=10, gamma=0.01 ................................................\n",
      "[CV] ................................. C=10, gamma=0.01, total=   0.5s\n",
      "[CV] C=10, gamma=0.01 ................................................\n",
      "[CV] ................................. C=10, gamma=0.01, total=   0.5s\n",
      "[CV] C=10, gamma=0.01 ................................................\n",
      "[CV] ................................. C=10, gamma=0.01, total=   0.5s\n",
      "[CV] C=10, gamma=0.01 ................................................\n",
      "[CV] ................................. C=10, gamma=0.01, total=   0.5s\n",
      "[CV] C=10, gamma=0.01 ................................................\n",
      "[CV] ................................. C=10, gamma=0.01, total=   0.5s\n",
      "[CV] C=10, gamma=0.001 ...............................................\n",
      "[CV] ................................ C=10, gamma=0.001, total=   0.2s\n",
      "[CV] C=10, gamma=0.001 ...............................................\n",
      "[CV] ................................ C=10, gamma=0.001, total=   0.3s\n",
      "[CV] C=10, gamma=0.001 ...............................................\n",
      "[CV] ................................ C=10, gamma=0.001, total=   0.2s\n",
      "[CV] C=10, gamma=0.001 ...............................................\n",
      "[CV] ................................ C=10, gamma=0.001, total=   0.2s\n",
      "[CV] C=10, gamma=0.001 ...............................................\n"
     ]
    },
    {
     "name": "stdout",
     "output_type": "stream",
     "text": [
      "[CV] ................................ C=10, gamma=0.001, total=   0.2s\n",
      "[CV] C=100, gamma=1.0 ................................................\n",
      "[CV] ................................. C=100, gamma=1.0, total= 1.3min\n",
      "[CV] C=100, gamma=1.0 ................................................\n",
      "[CV] ................................. C=100, gamma=1.0, total= 1.2min\n",
      "[CV] C=100, gamma=1.0 ................................................\n",
      "[CV] ................................. C=100, gamma=1.0, total= 1.2min\n",
      "[CV] C=100, gamma=1.0 ................................................\n",
      "[CV] ................................. C=100, gamma=1.0, total= 1.2min\n",
      "[CV] C=100, gamma=1.0 ................................................\n",
      "[CV] ................................. C=100, gamma=1.0, total= 1.3min\n",
      "[CV] C=100, gamma=0.1 ................................................\n",
      "[CV] ................................. C=100, gamma=0.1, total=   6.5s\n",
      "[CV] C=100, gamma=0.1 ................................................\n",
      "[CV] ................................. C=100, gamma=0.1, total=   6.8s\n",
      "[CV] C=100, gamma=0.1 ................................................\n",
      "[CV] ................................. C=100, gamma=0.1, total=   6.4s\n",
      "[CV] C=100, gamma=0.1 ................................................\n",
      "[CV] ................................. C=100, gamma=0.1, total=   6.4s\n",
      "[CV] C=100, gamma=0.1 ................................................\n",
      "[CV] ................................. C=100, gamma=0.1, total=  10.2s\n",
      "[CV] C=100, gamma=0.01 ...............................................\n",
      "[CV] ................................ C=100, gamma=0.01, total=   0.3s\n",
      "[CV] C=100, gamma=0.01 ...............................................\n",
      "[CV] ................................ C=100, gamma=0.01, total=   0.4s\n",
      "[CV] C=100, gamma=0.01 ...............................................\n",
      "[CV] ................................ C=100, gamma=0.01, total=   0.3s\n",
      "[CV] C=100, gamma=0.01 ...............................................\n",
      "[CV] ................................ C=100, gamma=0.01, total=   0.4s\n",
      "[CV] C=100, gamma=0.01 ...............................................\n",
      "[CV] ................................ C=100, gamma=0.01, total=   0.4s\n",
      "[CV] C=100, gamma=0.001 ..............................................\n",
      "[CV] ............................... C=100, gamma=0.001, total=   0.3s\n",
      "[CV] C=100, gamma=0.001 ..............................................\n",
      "[CV] ............................... C=100, gamma=0.001, total=   0.3s\n",
      "[CV] C=100, gamma=0.001 ..............................................\n",
      "[CV] ............................... C=100, gamma=0.001, total=   0.3s\n",
      "[CV] C=100, gamma=0.001 ..............................................\n",
      "[CV] ............................... C=100, gamma=0.001, total=   0.3s\n",
      "[CV] C=100, gamma=0.001 ..............................................\n",
      "[CV] ............................... C=100, gamma=0.001, total=   0.3s\n"
     ]
    },
    {
     "name": "stderr",
     "output_type": "stream",
     "text": [
      "[Parallel(n_jobs=1)]: Done  80 out of  80 | elapsed: 21.5min finished\n"
     ]
    },
    {
     "data": {
      "text/plain": [
       "GridSearchCV(estimator=SVC(),\n",
       "             param_grid={'C': [0.1, 1, 10, 100],\n",
       "                         'gamma': [1.0, 0.1, 0.01, 0.001]},\n",
       "             verbose=2)"
      ]
     },
     "execution_count": 231,
     "metadata": {},
     "output_type": "execute_result"
    }
   ],
   "source": [
    "# Create the CVe object and fit the model\n",
    "grid = GridSearchCV(SVC(),param_grid,verbose=2)\n",
    "grid.fit(X_train,y_train)"
   ]
  },
  {
   "cell_type": "code",
   "execution_count": 232,
   "metadata": {},
   "outputs": [],
   "source": [
    "#Predict the model\n",
    "grid_pred = grid.predict(X_test)"
   ]
  },
  {
   "cell_type": "code",
   "execution_count": 233,
   "metadata": {},
   "outputs": [
    {
     "name": "stdout",
     "output_type": "stream",
     "text": [
      "Confusion Matrix: \n",
      " [[14974     1]\n",
      " [   12    13]]\n",
      "Classification Report: \n",
      "               precision    recall  f1-score   support\n",
      "\n",
      "           0       1.00      1.00      1.00     14975\n",
      "           1       0.93      0.52      0.67        25\n",
      "\n",
      "    accuracy                           1.00     15000\n",
      "   macro avg       0.96      0.76      0.83     15000\n",
      "weighted avg       1.00      1.00      1.00     15000\n",
      "\n"
     ]
    }
   ],
   "source": [
    "# Explain the summary\n",
    "print('Confusion Matrix: \\n', confusion_matrix(y_test, grid_pred))\n",
    "print('Classification Report: \\n', classification_report(y_test, grid_pred))"
   ]
  },
  {
   "cell_type": "code",
   "execution_count": null,
   "metadata": {},
   "outputs": [],
   "source": []
  }
 ],
 "metadata": {
  "kernelspec": {
   "display_name": "Python 3",
   "language": "python",
   "name": "python3"
  },
  "language_info": {
   "codemirror_mode": {
    "name": "ipython",
    "version": 3
   },
   "file_extension": ".py",
   "mimetype": "text/x-python",
   "name": "python",
   "nbconvert_exporter": "python",
   "pygments_lexer": "ipython3",
   "version": "3.8.5"
  }
 },
 "nbformat": 4,
 "nbformat_minor": 4
}
